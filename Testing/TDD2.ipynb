{
 "cells": [
  {
   "cell_type": "markdown",
   "id": "beafd01f-20f7-469a-9392-aca6da3042c6",
   "metadata": {},
   "source": [
    "# E2E Tests with Selenium\n",
    "\n",
    "# Page Object Pattern \n",
    "\n",
    "\n",
    "---"
   ]
  },
  {
   "cell_type": "markdown",
   "id": "8a4db3c7-f74b-4596-86d0-5afe80ef8895",
   "metadata": {},
   "source": [
    "## We need a way of automating the browser\n",
    "\n",
    "- ### For MS - we can use this: https://developer.microsoft.com/en-us/windows/downloads/virtual-machines/\n",
    "- ### For Firefox: https://github.com/mozilla/geckodriver\n",
    "- ### For Chrome: "
   ]
  },
  {
   "cell_type": "markdown",
   "id": "c6258a02-e166-49bb-9e7e-c53adfa12368",
   "metadata": {},
   "source": [
    "Install this \n",
    "\n",
    "https://googlechromelabs.github.io/chrome-for-testing/#stable\n",
    "\n",
    "here:"
   ]
  },
  {
   "cell_type": "code",
   "execution_count": 4,
   "id": "13ab7336-ee63-4a60-a097-be7670df9663",
   "metadata": {},
   "outputs": [
    {
     "data": {
      "text/plain": [
       "'C:\\\\Users\\\\IIITL_0050\\\\miniconda3\\\\envs\\\\knowledgesharing'"
      ]
     },
     "execution_count": 4,
     "metadata": {},
     "output_type": "execute_result"
    }
   ],
   "source": [
    "import os\n",
    "import sys\n",
    "os.path.dirname(sys.executable)"
   ]
  },
  {
   "cell_type": "markdown",
   "id": "71631898-a96a-4669-8e25-83bec4769469",
   "metadata": {},
   "source": [
    "pip install --upgrade urllib3==1.26.16"
   ]
  },
  {
   "cell_type": "markdown",
   "id": "03e410ef-4802-427b-812b-79116935f55f",
   "metadata": {},
   "source": [
    "---\n",
    "\n",
    "# How to run it"
   ]
  },
  {
   "cell_type": "code",
   "execution_count": 5,
   "id": "be6e1ca1-9bd7-4eeb-80df-9bc2dc8fd4c4",
   "metadata": {},
   "outputs": [],
   "source": [
    "from selenium import webdriver\n",
    "from selenium.webdriver.common.by import By\n",
    "from selenium.webdriver.chrome.options import Options\n",
    "from time import sleep\n",
    "\n",
    "chrome_options = Options()\n",
    "\n",
    "browser = webdriver.Chrome(options=chrome_options)\n",
    "browser.get('https://www.w3.org/')\n",
    "sleep(15)\n",
    "browser.close()"
   ]
  },
  {
   "cell_type": "code",
   "execution_count": 6,
   "id": "16752047-c187-44cd-baec-fbab4a835043",
   "metadata": {},
   "outputs": [
    {
     "name": "stdout",
     "output_type": "stream",
     "text": [
      "Received!\n"
     ]
    }
   ],
   "source": [
    "from selenium import webdriver\n",
    "from selenium.webdriver.common.by import By\n",
    "from selenium.webdriver.chrome.options import Options\n",
    "\n",
    "chrome_options = Options()\n",
    "chrome_options.add_argument(\"--headless=new\") # IMPORTANT !!!!\n",
    "driver = webdriver.Chrome(options=chrome_options)\n",
    "\n",
    "driver.get(\"https://www.selenium.dev/selenium/web/web-form.html\")\n",
    "\n",
    "title = driver.title\n",
    "\n",
    "driver.implicitly_wait(0.5) # IMPORTANT !!!!\n",
    "\n",
    "text_box = driver.find_element(by=By.NAME, value=\"my-text\") \n",
    "submit_button = driver.find_element(by=By.CSS_SELECTOR, value=\"button\")\n",
    "\n",
    "text_box.send_keys(\"Selenium\")\n",
    "submit_button.click()\n",
    "\n",
    "message = driver.find_element(by=By.ID, value=\"message\")\n",
    "text = message.text\n",
    "\n",
    "print(text)\n",
    "\n",
    "assert text == \"Received!\"\n",
    "\n",
    "driver.quit()"
   ]
  },
  {
   "cell_type": "markdown",
   "id": "3eba17bd-74c7-4881-8b5f-0a690b3c0301",
   "metadata": {},
   "source": [
    "---\n",
    "\n",
    "# Local webserver\n",
    "\n",
    "`python3 -m http.server`"
   ]
  },
  {
   "cell_type": "code",
   "execution_count": 7,
   "id": "ac776ec9-be40-4d62-98ec-8030259505b9",
   "metadata": {},
   "outputs": [
    {
     "name": "stdout",
     "output_type": "stream",
     "text": [
      "Paris\n"
     ]
    }
   ],
   "source": [
    "from selenium import webdriver\n",
    "from selenium.webdriver.common.by import By\n",
    "from selenium.webdriver.chrome.options import Options\n",
    "\n",
    "chrome_options = Options()\n",
    "chrome_options.add_argument(\"--headless=new\") # IMPORTANT !!!!\n",
    "driver = webdriver.Chrome(options=chrome_options)\n",
    "\n",
    "driver.get(\"http://localhost:8000/tabs.html\")\n",
    "\n",
    "driver.implicitly_wait(0.5) # IMPORTANT !!!!\n",
    "\n",
    "button = driver.find_element(by=By.ID, value=\"button-paris\")\n",
    "button.click()\n",
    "\n",
    "driver.implicitly_wait(0.5)\n",
    "label = driver.find_element(by=By.ID, value=\"city-label\")\n",
    "text = label.text\n",
    "\n",
    "print(text)\n",
    "\n",
    "assert text == \"Paris\"\n",
    "\n",
    "driver.quit()"
   ]
  },
  {
   "cell_type": "markdown",
   "id": "9c69e601-190e-4d11-bc88-8a7046eb2757",
   "metadata": {},
   "source": [
    "---\n",
    "\n",
    "# Page Object Pattern \n",
    "\n",
    "https://martinfowler.com/bliki/PageObject.html"
   ]
  },
  {
   "cell_type": "code",
   "execution_count": 8,
   "id": "dfd25bf5-1977-46e4-88c9-8f9c2bdd514d",
   "metadata": {},
   "outputs": [],
   "source": [
    "class TabsPage:\n",
    "    def __init__(self, driver, url = \"http://localhost:8000/tabs.html\"):\n",
    "        self.url = url\n",
    "        self.driver = driver\n",
    "        \n",
    "        driver.get(url)\n",
    "        driver.implicitly_wait(0.5)\n",
    "\n",
    "        self.labels = [ el.get_attribute(\"id\") for el in driver.find_elements(by=By.CLASS_NAME, value=\"city\")]\n",
    "\n",
    "    def click(self, label):\n",
    "        button = self.driver.find_element(by=By.ID, value=f\"button-{label.lower()}\")\n",
    "        button.click()\n",
    "\n",
    "    def get_label(self):\n",
    "        label = self.driver.find_element(by=By.ID, value=\"city-label\")\n",
    "        text = label.text\n",
    "        return text"
   ]
  },
  {
   "cell_type": "code",
   "execution_count": 9,
   "id": "d1fdc437-ff12-4a5d-908b-c5a1a74e3b13",
   "metadata": {},
   "outputs": [],
   "source": [
    "chrome_options = Options()\n",
    "chrome_options.add_argument(\"--headless=new\") # IMPORTANT !!!!\n",
    "driver = webdriver.Chrome(options=chrome_options)\n",
    "\n",
    "tbs = TabsPage(driver)"
   ]
  },
  {
   "cell_type": "code",
   "execution_count": 10,
   "id": "f22efb9b-128f-4f0d-b629-25bd8a5c02fa",
   "metadata": {},
   "outputs": [],
   "source": [
    "assert tbs.labels == ['London', 'Paris', 'Tokyo']\n",
    "assert tbs.get_label() == 'Label'"
   ]
  },
  {
   "cell_type": "code",
   "execution_count": 11,
   "id": "86bed61b-ed9b-4082-b761-433bca305b84",
   "metadata": {},
   "outputs": [],
   "source": [
    "city = \"Paris\"\n",
    "tbs.click(city)\n",
    "assert tbs.get_label() == city"
   ]
  },
  {
   "cell_type": "markdown",
   "id": "fadb0155-97c4-419a-a9d2-6c1d06e22a33",
   "metadata": {},
   "source": [
    "---\n",
    "\n",
    "# Beautiful Soup\n"
   ]
  },
  {
   "cell_type": "code",
   "execution_count": 12,
   "id": "68821870-98f4-4f90-87b2-53d1ee0fdb5e",
   "metadata": {},
   "outputs": [],
   "source": [
    "html_doc = \"\"\"\n",
    "<html>\n",
    "<head><title>The Dormouse's story</title></head>\n",
    "<body>\n",
    "<p class=\"title\"><b>The Dormouse's story</b></p>\n",
    "\n",
    "<p class=\"story\">Once upon a time there were three little sisters; and their names were\n",
    "    <a href=\"http://example.com/elsie\" class=\"sister\" id=\"link1\">Elsie</a>,\n",
    "    <a href=\"http://example.com/lacie\" class=\"sister\" id=\"link2\">Lacie</a> and\n",
    "    <a href=\"http://example.com/tillie\" class=\"sister\" id=\"link3\">Tillie</a>;\n",
    "    and they lived at the bottom of a well.</p>\n",
    "\n",
    "<p class=\"story\">...</p>\n",
    "</body></html>\n",
    "\"\"\""
   ]
  },
  {
   "cell_type": "code",
   "execution_count": 13,
   "id": "d757fe16-7068-4416-81dc-5cf72a816eee",
   "metadata": {},
   "outputs": [
    {
     "name": "stdout",
     "output_type": "stream",
     "text": [
      "<html>\n",
      " <head>\n",
      "  <title>\n",
      "   The Dormouse's story\n",
      "  </title>\n",
      " </head>\n",
      " <body>\n",
      "  <p class=\"title\">\n",
      "   <b>\n",
      "    The Dormouse's story\n",
      "   </b>\n",
      "  </p>\n",
      "  <p class=\"story\">\n",
      "   Once upon a time there were three little sisters; and their names were\n",
      "   <a class=\"sister\" href=\"http://example.com/elsie\" id=\"link1\">\n",
      "    Elsie\n",
      "   </a>\n",
      "   ,\n",
      "   <a class=\"sister\" href=\"http://example.com/lacie\" id=\"link2\">\n",
      "    Lacie\n",
      "   </a>\n",
      "   and\n",
      "   <a class=\"sister\" href=\"http://example.com/tillie\" id=\"link3\">\n",
      "    Tillie\n",
      "   </a>\n",
      "   ;\n",
      "    and they lived at the bottom of a well.\n",
      "  </p>\n",
      "  <p class=\"story\">\n",
      "   ...\n",
      "  </p>\n",
      " </body>\n",
      "</html>\n",
      "\n"
     ]
    }
   ],
   "source": [
    "from bs4 import BeautifulSoup\n",
    "soup = BeautifulSoup(html_doc, 'html.parser')\n",
    "\n",
    "print(soup.prettify())"
   ]
  },
  {
   "cell_type": "raw",
   "id": "91a427af-d3fe-4c66-a5d4-8a0a03770c20",
   "metadata": {},
   "source": [
    "html\n",
    " ┣ head\n",
    " ┃  ┗ title\n",
    " ┗ body\t\n",
    "    ┣ p\n",
    "    ┃ ┗ b\n",
    "    ┣ p\n",
    "    ┃ ┣ a    \n",
    "    ┃ ┣ a    \n",
    "    ┃ ┗ a\n",
    "    ┗ p"
   ]
  },
  {
   "cell_type": "code",
   "execution_count": 14,
   "id": "44a91993-7a0a-4876-a5e1-ad1406b17d9c",
   "metadata": {},
   "outputs": [],
   "source": [
    "from bs4 import BeautifulSoup\n",
    "\n",
    "soup = BeautifulSoup(html_doc)"
   ]
  },
  {
   "cell_type": "raw",
   "id": "b7e9f73e-364e-4220-9914-dc4acecfea03",
   "metadata": {},
   "source": [
    "!pip install bs4"
   ]
  },
  {
   "cell_type": "code",
   "execution_count": 15,
   "id": "2a84dc76-c8a1-41dd-9c0d-bf88ea2cb2ae",
   "metadata": {},
   "outputs": [
    {
     "data": {
      "text/plain": [
       "<p class=\"title\"><b>The Dormouse's story</b></p>"
      ]
     },
     "execution_count": 15,
     "metadata": {},
     "output_type": "execute_result"
    }
   ],
   "source": [
    "soup.p"
   ]
  },
  {
   "cell_type": "code",
   "execution_count": 16,
   "id": "b281e63b-9745-4d12-9ddb-d92bd29e12af",
   "metadata": {},
   "outputs": [
    {
     "data": {
      "text/plain": [
       "['title']"
      ]
     },
     "execution_count": 16,
     "metadata": {},
     "output_type": "execute_result"
    }
   ],
   "source": [
    "soup.p['class']"
   ]
  },
  {
   "cell_type": "code",
   "execution_count": 17,
   "id": "613d9449-17d6-4230-9223-94ab91251e07",
   "metadata": {},
   "outputs": [
    {
     "data": {
      "text/plain": [
       "<a class=\"sister\" href=\"http://example.com/elsie\" id=\"link1\">Elsie</a>"
      ]
     },
     "execution_count": 17,
     "metadata": {},
     "output_type": "execute_result"
    }
   ],
   "source": [
    "soup.a"
   ]
  },
  {
   "cell_type": "code",
   "execution_count": 18,
   "id": "6e9fccb3-98d7-45ea-bbc3-1d65ba5b7cc0",
   "metadata": {},
   "outputs": [
    {
     "data": {
      "text/plain": [
       "[<a class=\"sister\" href=\"http://example.com/elsie\" id=\"link1\">Elsie</a>,\n",
       " <a class=\"sister\" href=\"http://example.com/lacie\" id=\"link2\">Lacie</a>,\n",
       " <a class=\"sister\" href=\"http://example.com/tillie\" id=\"link3\">Tillie</a>]"
      ]
     },
     "execution_count": 18,
     "metadata": {},
     "output_type": "execute_result"
    }
   ],
   "source": [
    "soup.find_all('a')"
   ]
  },
  {
   "cell_type": "code",
   "execution_count": 19,
   "id": "0a7a6762-34cf-4a03-a17b-863ab621d52b",
   "metadata": {},
   "outputs": [
    {
     "data": {
      "text/plain": [
       "<a class=\"sister\" href=\"http://example.com/tillie\" id=\"link3\">Tillie</a>"
      ]
     },
     "execution_count": 19,
     "metadata": {},
     "output_type": "execute_result"
    }
   ],
   "source": [
    "soup.find(id=\"link3\")"
   ]
  },
  {
   "cell_type": "code",
   "execution_count": 20,
   "id": "bf30b8bc-8519-4774-8ff8-a2d583a879b9",
   "metadata": {},
   "outputs": [
    {
     "data": {
      "text/plain": [
       "['http://example.com/elsie',\n",
       " 'http://example.com/lacie',\n",
       " 'http://example.com/tillie']"
      ]
     },
     "execution_count": 20,
     "metadata": {},
     "output_type": "execute_result"
    }
   ],
   "source": [
    "[ link.get('href') for link in soup.find_all('a')]"
   ]
  },
  {
   "cell_type": "code",
   "execution_count": 21,
   "id": "e00d4f7a-6d72-4a9f-9007-6a181755339f",
   "metadata": {},
   "outputs": [
    {
     "data": {
      "text/plain": [
       "<a class=\"sister\" href=\"http://example.com/elsie\" id=\"link1\">Elsie</a>"
      ]
     },
     "execution_count": 21,
     "metadata": {},
     "output_type": "execute_result"
    }
   ],
   "source": [
    "soup.a"
   ]
  },
  {
   "cell_type": "code",
   "execution_count": 22,
   "id": "f3c5652a-6c65-4975-a381-f26450986afb",
   "metadata": {},
   "outputs": [
    {
     "data": {
      "text/plain": [
       "<a class=\"sister\" href=\"http://example.com/lacie\" id=\"link2\">Lacie</a>"
      ]
     },
     "execution_count": 22,
     "metadata": {},
     "output_type": "execute_result"
    }
   ],
   "source": [
    "soup.a.find_next_sibling(\"a\")"
   ]
  },
  {
   "cell_type": "code",
   "execution_count": 23,
   "id": "bb456e97-dd34-4e79-9a27-96dbce1db96f",
   "metadata": {},
   "outputs": [
    {
     "data": {
      "text/plain": [
       "<p class=\"title\"><b>The Dormouse's story</b></p>"
      ]
     },
     "execution_count": 23,
     "metadata": {},
     "output_type": "execute_result"
    }
   ],
   "source": [
    "soup.p"
   ]
  },
  {
   "cell_type": "code",
   "execution_count": 24,
   "id": "36dd32a7-1259-4c82-8c82-6b08e5aaef3d",
   "metadata": {},
   "outputs": [
    {
     "data": {
      "text/plain": [
       "<p class=\"story\">Once upon a time there were three little sisters; and their names were\n",
       "    <a class=\"sister\" href=\"http://example.com/elsie\" id=\"link1\">Elsie</a>,\n",
       "    <a class=\"sister\" href=\"http://example.com/lacie\" id=\"link2\">Lacie</a> and\n",
       "    <a class=\"sister\" href=\"http://example.com/tillie\" id=\"link3\">Tillie</a>;\n",
       "    and they lived at the bottom of a well.</p>"
      ]
     },
     "execution_count": 24,
     "metadata": {},
     "output_type": "execute_result"
    }
   ],
   "source": [
    "soup.p.find_next_sibling(\"p\")"
   ]
  },
  {
   "cell_type": "code",
   "execution_count": 25,
   "id": "7093afeb-7560-490a-b057-e8c6a51c6e5a",
   "metadata": {},
   "outputs": [],
   "source": [
    "pn=soup.p.find_next_sibling(\"p\")\n",
    "children = pn.children"
   ]
  },
  {
   "cell_type": "code",
   "execution_count": 26,
   "id": "0973a313-247a-4e09-9bd0-67f26109f65b",
   "metadata": {},
   "outputs": [
    {
     "data": {
      "text/plain": [
       "<list_iterator at 0x1c7975d6940>"
      ]
     },
     "execution_count": 26,
     "metadata": {},
     "output_type": "execute_result"
    }
   ],
   "source": [
    "children"
   ]
  },
  {
   "cell_type": "code",
   "execution_count": 27,
   "id": "2ff09e06-3e07-477e-acd4-03d0c115df3a",
   "metadata": {},
   "outputs": [
    {
     "data": {
      "text/plain": [
       "['Once upon a time there were three little sisters; and their names were\\n    ',\n",
       " <a class=\"sister\" href=\"http://example.com/elsie\" id=\"link1\">Elsie</a>,\n",
       " ',\\n    ',\n",
       " <a class=\"sister\" href=\"http://example.com/lacie\" id=\"link2\">Lacie</a>,\n",
       " ' and\\n    ',\n",
       " <a class=\"sister\" href=\"http://example.com/tillie\" id=\"link3\">Tillie</a>,\n",
       " ';\\n    and they lived at the bottom of a well.']"
      ]
     },
     "execution_count": 27,
     "metadata": {},
     "output_type": "execute_result"
    }
   ],
   "source": [
    "c_list = [ x for x in children ]\n",
    "c_list"
   ]
  },
  {
   "cell_type": "code",
   "execution_count": null,
   "id": "0b80807b-ed0a-46dd-9f98-20199462dd6e",
   "metadata": {},
   "outputs": [],
   "source": [
    "c_list[1].get('href')"
   ]
  },
  {
   "cell_type": "code",
   "execution_count": 28,
   "id": "3cc34762-c0fb-42b4-8c70-9f52c9cfb8c7",
   "metadata": {},
   "outputs": [
    {
     "data": {
      "text/plain": [
       "<head><title>The Dormouse's story</title></head>"
      ]
     },
     "execution_count": 28,
     "metadata": {},
     "output_type": "execute_result"
    }
   ],
   "source": [
    "head_tag = soup.head\n",
    "head_tag"
   ]
  },
  {
   "cell_type": "code",
   "execution_count": 29,
   "id": "a2fcaf76-bca9-4acb-9c54-899974f925eb",
   "metadata": {},
   "outputs": [
    {
     "name": "stdout",
     "output_type": "stream",
     "text": [
      "<title>The Dormouse's story</title>\n"
     ]
    }
   ],
   "source": [
    "for child in head_tag.children:\n",
    "    print(child)"
   ]
  },
  {
   "cell_type": "code",
   "execution_count": 30,
   "id": "f628e070-e6aa-4f64-b458-045433b2b00c",
   "metadata": {},
   "outputs": [
    {
     "name": "stdout",
     "output_type": "stream",
     "text": [
      "<title>The Dormouse's story</title>\n",
      "The Dormouse's story\n"
     ]
    }
   ],
   "source": [
    "for child in head_tag.descendants:\n",
    "    print(child)"
   ]
  },
  {
   "cell_type": "code",
   "execution_count": 32,
   "id": "56c7adc1-d667-4aad-a3e5-3255cd7dde84",
   "metadata": {},
   "outputs": [
    {
     "data": {
      "text/plain": [
       "<a class=\"sister\" href=\"http://example.com/tillie\" id=\"link3\">Tillie</a>"
      ]
     },
     "execution_count": 32,
     "metadata": {},
     "output_type": "execute_result"
    }
   ],
   "source": [
    "last_a_tag = soup.find(\"a\", id=\"link3\")\n",
    "last_a_tag\n"
   ]
  },
  {
   "cell_type": "code",
   "execution_count": 33,
   "id": "d7deffe6-f53a-483c-aa01-688be691f663",
   "metadata": {},
   "outputs": [
    {
     "data": {
      "text/plain": [
       "';\\n    and they lived at the bottom of a well.'"
      ]
     },
     "execution_count": 33,
     "metadata": {},
     "output_type": "execute_result"
    }
   ],
   "source": [
    "last_a_tag.next_sibling"
   ]
  },
  {
   "cell_type": "code",
   "execution_count": 34,
   "id": "479078e4-74e6-435d-b487-c5c1c3885987",
   "metadata": {},
   "outputs": [
    {
     "data": {
      "text/plain": [
       "'Tillie'"
      ]
     },
     "execution_count": 34,
     "metadata": {},
     "output_type": "execute_result"
    }
   ],
   "source": [
    "last_a_tag.next_element"
   ]
  },
  {
   "cell_type": "code",
   "execution_count": 35,
   "id": "6d9c680f-0084-4dd5-91a1-d713e6196dec",
   "metadata": {},
   "outputs": [
    {
     "data": {
      "text/plain": [
       "<p class=\"story\">Once upon a time there were three little sisters; and their names were\n",
       "    <a class=\"sister\" href=\"http://example.com/elsie\" id=\"link1\">Elsie</a>,\n",
       "    <a class=\"sister\" href=\"http://example.com/lacie\" id=\"link2\">Lacie</a> and\n",
       "    <a class=\"sister\" href=\"http://example.com/tillie\" id=\"link3\">Tillie</a>;\n",
       "    and they lived at the bottom of a well.</p>"
      ]
     },
     "execution_count": 35,
     "metadata": {},
     "output_type": "execute_result"
    }
   ],
   "source": [
    "last_a_tag.parent"
   ]
  },
  {
   "cell_type": "code",
   "execution_count": null,
   "id": "8b9a794e-2bdb-4430-86db-0f5f9ffd74a6",
   "metadata": {},
   "outputs": [],
   "source": [
    "def has_class_but_no_id(tag):\n",
    "    return tag.has_attr('class') and not tag.has_attr('id')\n",
    "\n",
    "soup.find_all(has_class_but_no_id)"
   ]
  },
  {
   "cell_type": "code",
   "execution_count": null,
   "id": "2b44a796-d010-416c-a95a-154fc89fee4a",
   "metadata": {},
   "outputs": [],
   "source": [
    "soup.find_all(id='link2')"
   ]
  },
  {
   "cell_type": "code",
   "execution_count": null,
   "id": "8a493c02-7771-4c74-89fa-695ad59ab8eb",
   "metadata": {},
   "outputs": [],
   "source": [
    "soup.find_all(\"a\", class_=\"sister\")"
   ]
  },
  {
   "cell_type": "code",
   "execution_count": null,
   "id": "9650f8a2-3a05-4513-a36c-90646e37b51d",
   "metadata": {},
   "outputs": [],
   "source": [
    "soup.find_all(\"a\")\n",
    "soup(\"a\")"
   ]
  }
 ],
 "metadata": {
  "kernelspec": {
   "display_name": "Python 3 (ipykernel)",
   "language": "python",
   "name": "python3"
  },
  "language_info": {
   "codemirror_mode": {
    "name": "ipython",
    "version": 3
   },
   "file_extension": ".py",
   "mimetype": "text/x-python",
   "name": "python",
   "nbconvert_exporter": "python",
   "pygments_lexer": "ipython3",
   "version": "3.8.19"
  }
 },
 "nbformat": 4,
 "nbformat_minor": 5
}
